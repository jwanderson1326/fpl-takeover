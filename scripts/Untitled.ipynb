{
 "cells": [
  {
   "cell_type": "code",
   "execution_count": 12,
   "id": "swiss-millennium",
   "metadata": {},
   "outputs": [],
   "source": [
    "from ipynb.fs.full.base_frames import player_fixtures"
   ]
  },
  {
   "cell_type": "code",
   "execution_count": 13,
   "id": "lovely-honey",
   "metadata": {},
   "outputs": [],
   "source": [
    "player_fixtures.to_csv('player_fixtures.csv')"
   ]
  }
 ],
 "metadata": {
  "kernelspec": {
   "display_name": "Python 3",
   "language": "python",
   "name": "python3"
  },
  "language_info": {
   "codemirror_mode": {
    "name": "ipython",
    "version": 3
   },
   "file_extension": ".py",
   "mimetype": "text/x-python",
   "name": "python",
   "nbconvert_exporter": "python",
   "pygments_lexer": "ipython3",
   "version": "3.8.6"
  }
 },
 "nbformat": 4,
 "nbformat_minor": 5
}
